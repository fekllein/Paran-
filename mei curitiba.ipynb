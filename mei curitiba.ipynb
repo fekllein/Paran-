{
 "cells": [
  {
   "cell_type": "code",
   "execution_count": null,
   "metadata": {},
   "outputs": [],
   "source": [
    "# para iniciar as importações das bibliotecas, instalar no pompt de comando:\n",
    "# pip install scikit-learn\n",
    "# pip install sklearn==0.0\n",
    "# no jupiter:"
   ]
  },
  {
   "cell_type": "code",
   "execution_count": null,
   "metadata": {},
   "outputs": [],
   "source": [
    "import warnings \n",
    "warnings.filterwarnings(\"ignore\")\n",
    "import sys\n",
    "import os\n",
    "sys.path.append(os.path.abspath(\"../\"))\n",
    "import pandas as pd\n",
    "import numpy as np\n",
    "from matplotlib import pyplot as plt\n",
    "import seaborn as sns\n",
    "from scipy.stats import spearmanr\n",
    "plt.style.use('ggplot')\n",
    "from tqdm import tqdm\n",
    "from synthdid.model import SynthDID"
   ]
  },
  {
   "cell_type": "code",
   "execution_count": null,
   "metadata": {},
   "outputs": [],
   "source": [
    "# localizar a planilha em excel em xlsx "
   ]
  },
  {
   "cell_type": "code",
   "execution_count": null,
   "metadata": {},
   "outputs": [],
   "source": [
    "df = pd.read_excel(\"C:/Users/ferna/Downloads/meicuritiba.xlsx\") \n",
    "df.head ()"
   ]
  },
  {
   "cell_type": "code",
   "execution_count": null,
   "metadata": {},
   "outputs": [],
   "source": [
    "data = df.pivot(\"Year\", \"City\", \"MEI\")\n",
    "data = data.dropna(axis=1)\n",
    "data.head().round()"
   ]
  },
  {
   "cell_type": "code",
   "execution_count": null,
   "metadata": {},
   "outputs": [],
   "source": [
    "#pre terem = intervalo dos anos anteriores\n",
    "#pos terem = ano da intervenção até o ano final da análise\n",
    "#TREATMENT = \"[Curitiba (PR)]\" este nome deve estar escrito igual o da planilha\n",
    "#exibr dados"
   ]
  },
  {
   "cell_type": "code",
   "execution_count": null,
   "metadata": {},
   "outputs": [],
   "source": [
    "PRE_TEREM = [2009, 2012]\n",
    "POST_TEREM = [2013, 2021]\n",
    "TREATMENT = [\"Curitiba (PR)\"]\n",
    "data.head()"
   ]
  },
  {
   "cell_type": "code",
   "execution_count": null,
   "metadata": {},
   "outputs": [],
   "source": [
    "melt_df = pd.melt(\n",
    "    data.reset_index().rename(columns={\"index\": \"Year\"}),\n",
    "    id_vars=\"Year\",\n",
    "    value_name=\"MEI\",\n",
    "    var_name=\"City\",\n",
    ")\n",
    "melt_df[\"is_Curitiba\"] = melt_df[\"City\"] == \"Curitiba (PR)\"\n",
    "melt_df"
   ]
  },
  {
   "cell_type": "code",
   "execution_count": null,
   "metadata": {},
   "outputs": [],
   "source": [
    "# Separe as variável dependente(X), que refere-se aos anos e variável independente (Y) que refere-se a quantidade de MEIs. A cidade que teve a intervenção é Curitiba. Destacar que 2012 é o último ano em que Curitiba não teve intervenção."
   ]
  },
  {
   "cell_type": "code",
   "execution_count": null,
   "metadata": {},
   "outputs": [],
   "source": [
    "fig, ax = plt.subplots()\n",
    "fig.set_figwidth(10)\n",
    "\n",
    "sns.lineplot(x=\"Year\", y=\"MEI\", hue=\"is_Curitiba\", data=melt_df, ax=ax)\n",
    "\n",
    "ax.axvspan(2012, 2021, alpha=0.5, color=\"lightblue\")\n",
    "\n",
    "plt.title(\"MEIs\")\n",
    "plt.show()"
   ]
  }
 ],
 "metadata": {
  "language_info": {
   "name": "python"
  }
 },
 "nbformat": 4,
 "nbformat_minor": 2
}
